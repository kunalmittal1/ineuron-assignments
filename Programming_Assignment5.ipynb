{
  "nbformat": 4,
  "nbformat_minor": 0,
  "metadata": {
    "colab": {
      "provenance": []
    },
    "kernelspec": {
      "name": "python3",
      "display_name": "Python 3"
    },
    "language_info": {
      "name": "python"
    }
  },
  "cells": [
    {
      "cell_type": "markdown",
      "source": [
        "Write a Python Program to Find LCM?"
      ],
      "metadata": {
        "id": "wyTEDWbKg-Ey"
      }
    },
    {
      "cell_type": "code",
      "execution_count": 1,
      "metadata": {
        "id": "zAQQnAuEgRVJ"
      },
      "outputs": [],
      "source": [
        "def calculate_lcm(x, y):\n",
        "    if x > y:  \n",
        "        greater = x  \n",
        "    else:  \n",
        "        greater = y  \n",
        "    while(True):  \n",
        "        if((greater % x == 0) and (greater % y == 0)):  \n",
        "            lcm = greater  \n",
        "            break  \n",
        "        greater += 1  \n",
        "    return lcm "
      ]
    },
    {
      "cell_type": "code",
      "source": [
        "num1 = int(input(\"Enter first number: \"))  \n",
        "num2 = int(input(\"Enter second number: \"))\n",
        "print(\"The L.C.M. of\", num1,\"and\", num2,\"is\", calculate_lcm(num1, num2))"
      ],
      "metadata": {
        "colab": {
          "base_uri": "https://localhost:8080/"
        },
        "id": "W6THPSC4hGhZ",
        "outputId": "091f3d7e-5d96-4860-92cb-cc33ed0de82c"
      },
      "execution_count": 2,
      "outputs": [
        {
          "output_type": "stream",
          "name": "stdout",
          "text": [
            "Enter first number: 34\n",
            "Enter second number: 54\n",
            "The L.C.M. of 34 and 54 is 918\n"
          ]
        }
      ]
    },
    {
      "cell_type": "markdown",
      "source": [
        "Write a Python Program to Find HCF?"
      ],
      "metadata": {
        "id": "46_UlxY2hUfP"
      }
    },
    {
      "cell_type": "code",
      "source": [
        "def calculate_hcf(x, y):\n",
        "    if x > y:  \n",
        "        smaller = y  \n",
        "    else:  \n",
        "        smaller = x  \n",
        "    for i in range(1,smaller + 1):  \n",
        "        if((x % i == 0) and (y % i == 0)):  \n",
        "            hcf = i  \n",
        "    return hcf  "
      ],
      "metadata": {
        "id": "L7sUEEpwhN41"
      },
      "execution_count": 3,
      "outputs": []
    },
    {
      "cell_type": "code",
      "source": [
        "num1 = int(input(\"Enter first number: \"))  \n",
        "num2 = int(input(\"Enter second number: \"))\n",
        "print(\"The H.C.F. of\", num1,\"and\", num2,\"is\", calculate_hcf(num1, num2))"
      ],
      "metadata": {
        "colab": {
          "base_uri": "https://localhost:8080/"
        },
        "id": "F_hvnABBhjdQ",
        "outputId": "c8112c05-142a-46dc-9779-bcc2c82d1f43"
      },
      "execution_count": 4,
      "outputs": [
        {
          "output_type": "stream",
          "name": "stdout",
          "text": [
            "Enter first number: 45\n",
            "Enter second number: 34\n",
            "The H.C.F. of 45 and 34 is 1\n"
          ]
        }
      ]
    },
    {
      "cell_type": "markdown",
      "source": [
        "Write a Python Program to Convert Decimal to Binary, Octal and Hexadecimal?"
      ],
      "metadata": {
        "id": "vb-cH9c2h242"
      }
    },
    {
      "cell_type": "code",
      "source": [
        "def conversion(decimal_1):\n",
        "    decimal = int(decimal_1)\n",
        "    print (\"The given decimal number\", decimal, \"in Binary number is: \", bin(decimal))\n",
        "    print (\"The given decimal number\", decimal, \"in Octal number is: \", oct(decimal))\n",
        "    print (\"The given decimal number\", decimal, \" in Hexadecimal number is: \", hex(decimal))  "
      ],
      "metadata": {
        "id": "4WGquPQqhqhO"
      },
      "execution_count": 9,
      "outputs": []
    },
    {
      "cell_type": "code",
      "source": [
        "decimal_1 = float(input (\" Enter the Decimal Number: \"))  \n",
        "conversion(decimal_1)"
      ],
      "metadata": {
        "colab": {
          "base_uri": "https://localhost:8080/"
        },
        "id": "YbKnxcA0isWK",
        "outputId": "acf1fe23-e15d-420b-82ff-5b9d8115dfbe"
      },
      "execution_count": 10,
      "outputs": [
        {
          "output_type": "stream",
          "name": "stdout",
          "text": [
            " Enter the Decimal Number: 89.65\n",
            "The given decimal number 89 in Binary number is:  0b1011001\n",
            "The given decimal number 89 in Octal number is:  0o131\n",
            "The given decimal number 89  in Hexadecimal number is:  0x59\n"
          ]
        }
      ]
    },
    {
      "cell_type": "markdown",
      "source": [
        "Write a Python Program To Find ASCII value of a character?"
      ],
      "metadata": {
        "id": "nQvpWPpTjnH7"
      }
    },
    {
      "cell_type": "code",
      "source": [
        "def char_to_ASCII(text):\n",
        "  for char in text:\n",
        "      ascii = ord(char)\n",
        "      print(char, \"\\t\", ascii)"
      ],
      "metadata": {
        "id": "ONB02Vfji-tR"
      },
      "execution_count": 17,
      "outputs": []
    },
    {
      "cell_type": "code",
      "source": [
        "text = input(\"Please enter the Characters : \")\n",
        "char_to_ASCII(text)"
      ],
      "metadata": {
        "colab": {
          "base_uri": "https://localhost:8080/"
        },
        "id": "xWbOJ8Vlke1Y",
        "outputId": "b0d3b53c-086b-4f20-a5fa-a5be2681ea3c"
      },
      "execution_count": 21,
      "outputs": [
        {
          "output_type": "stream",
          "name": "stdout",
          "text": [
            "Please enter the Characters : kunakm,ittal\n",
            "k \t 107\n",
            "u \t 117\n",
            "n \t 110\n",
            "a \t 97\n",
            "k \t 107\n",
            "m \t 109\n",
            ", \t 44\n",
            "i \t 105\n",
            "t \t 116\n",
            "t \t 116\n",
            "a \t 97\n",
            "l \t 108\n"
          ]
        }
      ]
    },
    {
      "cell_type": "markdown",
      "source": [
        "Write a Python Program to Make a Simple Calculator with 4 basic mathematical operations?"
      ],
      "metadata": {
        "id": "p9GFMPcIm688"
      }
    },
    {
      "cell_type": "code",
      "source": [
        "def calculator(x,y):\n",
        "  a = input(\"what would you like to do to these numbers enter [+,-,*,/]: \")\n",
        "  if a == \"+\":\n",
        "    print(\"Addition of\", x ,\"and\", y ,\"is\", x+y)\n",
        "  elif a == \"-\":\n",
        "    print(\"Subtraction of\", y , \"from\", x , \"is\" , x-y)\n",
        "  elif a == \"*\":\n",
        "    print(\"Multiplication of\", x , \"and\", y , \"is\" , x*y)\n",
        "  elif a == \"/\":\n",
        "    print(\"Division of\", y , \"from\", x , \"is\" , x/y)\n",
        "  else:\n",
        "    print(\"Plese enter the valid input\")"
      ],
      "metadata": {
        "id": "RYwKnoQXl4Na"
      },
      "execution_count": 31,
      "outputs": []
    },
    {
      "cell_type": "code",
      "source": [
        "calculator(2,5)"
      ],
      "metadata": {
        "colab": {
          "base_uri": "https://localhost:8080/"
        },
        "id": "9eBn03k0o5Oq",
        "outputId": "165a3f3c-c9be-4d89-e75d-3025bbda6cd6"
      },
      "execution_count": 34,
      "outputs": [
        {
          "output_type": "stream",
          "name": "stdout",
          "text": [
            "what would you like to do to these numbers enter [+,-,*,/]: '\n",
            "Plese enter the valid input\n"
          ]
        }
      ]
    }
  ]
}