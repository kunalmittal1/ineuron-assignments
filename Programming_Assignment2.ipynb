{
  "nbformat": 4,
  "nbformat_minor": 0,
  "metadata": {
    "colab": {
      "provenance": []
    },
    "kernelspec": {
      "name": "python3",
      "display_name": "Python 3"
    },
    "language_info": {
      "name": "python"
    }
  },
  "cells": [
    {
      "cell_type": "markdown",
      "source": [
        "Write a Python program to convert kilometers to miles?"
      ],
      "metadata": {
        "id": "FUcjfUzbVrK9"
      }
    },
    {
      "cell_type": "code",
      "execution_count": 10,
      "metadata": {
        "colab": {
          "base_uri": "https://localhost:8080/"
        },
        "id": "Cm8MquovVibp",
        "outputId": "7dfdb0bb-f1fc-4aff-ddda-8cec7dcde3eb"
      },
      "outputs": [
        {
          "output_type": "stream",
          "name": "stdout",
          "text": [
            "Enter value in kilometers: 23\n",
            "23.0 kilometers is equal to 14.291533 miles\n"
          ]
        }
      ],
      "source": [
        "value_k = float(input(\"Enter value in kilometers: \"))\n",
        "factor = 0.621371\n",
        "print(f'{value_k} kilometers is equal to {factor*value_k} miles')"
      ]
    },
    {
      "cell_type": "markdown",
      "source": [
        "Write a Python program to convert Celsius to Fahrenheit?"
      ],
      "metadata": {
        "id": "2ZCsu8zKVvFv"
      }
    },
    {
      "cell_type": "code",
      "source": [
        "value_c = float(input(\"Enter temperature value in degree Celsius: \" )) \n",
        "print(f'{value_c} degree Celsius is equal to {(value_c * 1.8) + 32} degree Fahrenhit')"
      ],
      "metadata": {
        "colab": {
          "base_uri": "https://localhost:8080/"
        },
        "id": "30wWplJzWevX",
        "outputId": "c41144d4-00d4-48ca-b9f6-70ca7d745959"
      },
      "execution_count": 11,
      "outputs": [
        {
          "output_type": "stream",
          "name": "stdout",
          "text": [
            "Enter temperature value in degree Celsius: 56\n",
            "56.0 degree Celsius is equal to 132.8 degree Fahrenhit\n"
          ]
        }
      ]
    },
    {
      "cell_type": "markdown",
      "source": [
        "Write a Python program to display calendar?"
      ],
      "metadata": {
        "id": "SE9yb-9VXJxu"
      }
    },
    {
      "cell_type": "code",
      "source": [
        "import calendar\n",
        "print(calendar.calendar(int(input(\"Enter the year: \"))))"
      ],
      "metadata": {
        "colab": {
          "base_uri": "https://localhost:8080/"
        },
        "id": "_w1h66pPXG4P",
        "outputId": "b64946e4-7aa2-4403-bd85-bc12faf0b8e0"
      },
      "execution_count": 12,
      "outputs": [
        {
          "output_type": "stream",
          "name": "stdout",
          "text": [
            "Enter the year: 2000\n",
            "                                  2000\n",
            "\n",
            "      January                   February                   March\n",
            "Mo Tu We Th Fr Sa Su      Mo Tu We Th Fr Sa Su      Mo Tu We Th Fr Sa Su\n",
            "                1  2          1  2  3  4  5  6             1  2  3  4  5\n",
            " 3  4  5  6  7  8  9       7  8  9 10 11 12 13       6  7  8  9 10 11 12\n",
            "10 11 12 13 14 15 16      14 15 16 17 18 19 20      13 14 15 16 17 18 19\n",
            "17 18 19 20 21 22 23      21 22 23 24 25 26 27      20 21 22 23 24 25 26\n",
            "24 25 26 27 28 29 30      28 29                     27 28 29 30 31\n",
            "31\n",
            "\n",
            "       April                      May                       June\n",
            "Mo Tu We Th Fr Sa Su      Mo Tu We Th Fr Sa Su      Mo Tu We Th Fr Sa Su\n",
            "                1  2       1  2  3  4  5  6  7                1  2  3  4\n",
            " 3  4  5  6  7  8  9       8  9 10 11 12 13 14       5  6  7  8  9 10 11\n",
            "10 11 12 13 14 15 16      15 16 17 18 19 20 21      12 13 14 15 16 17 18\n",
            "17 18 19 20 21 22 23      22 23 24 25 26 27 28      19 20 21 22 23 24 25\n",
            "24 25 26 27 28 29 30      29 30 31                  26 27 28 29 30\n",
            "\n",
            "        July                     August                  September\n",
            "Mo Tu We Th Fr Sa Su      Mo Tu We Th Fr Sa Su      Mo Tu We Th Fr Sa Su\n",
            "                1  2          1  2  3  4  5  6                   1  2  3\n",
            " 3  4  5  6  7  8  9       7  8  9 10 11 12 13       4  5  6  7  8  9 10\n",
            "10 11 12 13 14 15 16      14 15 16 17 18 19 20      11 12 13 14 15 16 17\n",
            "17 18 19 20 21 22 23      21 22 23 24 25 26 27      18 19 20 21 22 23 24\n",
            "24 25 26 27 28 29 30      28 29 30 31               25 26 27 28 29 30\n",
            "31\n",
            "\n",
            "      October                   November                  December\n",
            "Mo Tu We Th Fr Sa Su      Mo Tu We Th Fr Sa Su      Mo Tu We Th Fr Sa Su\n",
            "                   1             1  2  3  4  5                   1  2  3\n",
            " 2  3  4  5  6  7  8       6  7  8  9 10 11 12       4  5  6  7  8  9 10\n",
            " 9 10 11 12 13 14 15      13 14 15 16 17 18 19      11 12 13 14 15 16 17\n",
            "16 17 18 19 20 21 22      20 21 22 23 24 25 26      18 19 20 21 22 23 24\n",
            "23 24 25 26 27 28 29      27 28 29 30               25 26 27 28 29 30 31\n",
            "30 31\n",
            "\n"
          ]
        }
      ]
    },
    {
      "cell_type": "markdown",
      "source": [
        "Write a Python program to solve quadratic equation?"
      ],
      "metadata": {
        "id": "GFk8dH01X-2-"
      }
    },
    {
      "cell_type": "code",
      "source": [
        "import cmath\n",
        "\n",
        "a = int(input(\"Please enter the x square factor of the equation: \"))\n",
        "b = int(input(\"Please enter the x factor of the equation: \"))\n",
        "c = int(input(\"Please enter the constant factor of the equation: \"))\n",
        "\n",
        "d = (b**2) - (4*a*c)\n",
        "\n",
        "solution1 = (-b-cmath.sqrt(d))/(2*a)\n",
        "solution2 = (-b+cmath.sqrt(d))/(2*a)\n",
        "print(f\"The possible values for x of the given equation are: {solution1} and {solution2}\")"
      ],
      "metadata": {
        "colab": {
          "base_uri": "https://localhost:8080/"
        },
        "id": "HjKj_slkX3Sq",
        "outputId": "8e4e7b8c-cf60-4e33-f783-c54c11ec861b"
      },
      "execution_count": 13,
      "outputs": [
        {
          "output_type": "stream",
          "name": "stdout",
          "text": [
            "Please enter the x square factor of the equation: 1\n",
            "Please enter the x factor of the equation: 3\n",
            "Please enter the constant factor of the equation: 5\n",
            "The possible values for x of the given equation are: (-1.5-1.6583123951777j) and (-1.5+1.6583123951777j)\n"
          ]
        }
      ]
    },
    {
      "cell_type": "markdown",
      "source": [
        "Write a Python program to swap two variables without temp variable?"
      ],
      "metadata": {
        "id": "3fAOhGoHb2WN"
      }
    },
    {
      "cell_type": "code",
      "source": [
        "x = int(input(\"Please enter the first value: \"))\n",
        "y = int(input(\"Please enter the second value: \"))\n",
        "\n",
        "print(f'The value of x befor swapping: {x}')\n",
        "print(f'The value of y before swapping: {y}')\n",
        "\n",
        "x , y = y , x\n",
        "\n",
        "print(f'The value of x after swapping: {x}')\n",
        "print(f'The value of y after swapping: {y}')"
      ],
      "metadata": {
        "colab": {
          "base_uri": "https://localhost:8080/"
        },
        "id": "2Pe-xVx0Zjgi",
        "outputId": "26ccfcc2-5fdd-485e-8bb3-b7b8ce6e3d26"
      },
      "execution_count": 14,
      "outputs": [
        {
          "output_type": "stream",
          "name": "stdout",
          "text": [
            "Please enter the first value: 34\n",
            "Please enter the second value: 43\n",
            "The value of x befor swapping: 34\n",
            "The value of y before swapping: 43\n",
            "The value of x after swapping: 43\n",
            "The value of y after swapping: 34\n"
          ]
        }
      ]
    }
  ]
}