{
  "nbformat": 4,
  "nbformat_minor": 0,
  "metadata": {
    "colab": {
      "provenance": []
    },
    "kernelspec": {
      "name": "python3",
      "display_name": "Python 3"
    },
    "language_info": {
      "name": "python"
    }
  },
  "cells": [
    {
      "cell_type": "markdown",
      "source": [
        "Write a Python program to print &quot;Hello Python&quot;?"
      ],
      "metadata": {
        "id": "CklgvREsQre9"
      }
    },
    {
      "cell_type": "code",
      "execution_count": 1,
      "metadata": {
        "colab": {
          "base_uri": "https://localhost:8080/"
        },
        "id": "e8GJNK9oQbDA",
        "outputId": "b9ac1b8b-71eb-4272-ecd9-98e4b5d48241"
      },
      "outputs": [
        {
          "output_type": "stream",
          "name": "stdout",
          "text": [
            "Hello Python\n"
          ]
        }
      ],
      "source": [
        "print(\"Hello Python\")"
      ]
    },
    {
      "cell_type": "markdown",
      "source": [
        "Write a Python program to do arithmetical operations addition and division?"
      ],
      "metadata": {
        "id": "_Ig1nOb_Q3ZA"
      }
    },
    {
      "cell_type": "code",
      "source": [
        "a = 99\n",
        "b = 3\n",
        "\n",
        "print(a+b)\n",
        "print(a/b)"
      ],
      "metadata": {
        "colab": {
          "base_uri": "https://localhost:8080/"
        },
        "id": "IEZLFbtlQzIX",
        "outputId": "4fa9fbb1-0eb0-4e8f-fae7-6f57d9b24018"
      },
      "execution_count": 3,
      "outputs": [
        {
          "output_type": "stream",
          "name": "stdout",
          "text": [
            "102\n",
            "33.0\n"
          ]
        }
      ]
    },
    {
      "cell_type": "markdown",
      "source": [
        "Write a Python program to find the area of a triangle?"
      ],
      "metadata": {
        "id": "ZqVto8W3RKPL"
      }
    },
    {
      "cell_type": "code",
      "source": [
        "a = float(input('Enter first side: '))  \n",
        "b = float(input('Enter second side: '))  \n",
        "c = float(input('Enter third side: '))  \n",
        "  \n",
        "s = (a + b + c) / 2  \n",
        "  \n",
        "area = (s*(s-a)*(s-b)*(s-c)) ** 0.5  \n",
        "print(f'The area of the triangle is {area}')"
      ],
      "metadata": {
        "colab": {
          "base_uri": "https://localhost:8080/"
        },
        "id": "wIsGt28YRGRX",
        "outputId": "83603c31-d841-47f0-b8ea-29d7713e8478"
      },
      "execution_count": 4,
      "outputs": [
        {
          "output_type": "stream",
          "name": "stdout",
          "text": [
            "Enter first side: 9\n",
            "Enter second side: 8\n",
            "Enter third side: 7\n",
            "The area of the triangle is 26.832815729997478\n"
          ]
        }
      ]
    },
    {
      "cell_type": "markdown",
      "source": [
        "Write a Python program to swap two variables?"
      ],
      "metadata": {
        "id": "8sUFyun9R36H"
      }
    },
    {
      "cell_type": "code",
      "source": [
        "x = int(input(\"Please enter the first value: \"))\n",
        "y = int(input(\"Please enter the second value: \"))\n",
        "\n",
        "print(f'The value of x befor swapping: {x}')\n",
        "print(f'The value of y before swapping: {y}')\n",
        "\n",
        "x , y = y , x\n",
        "\n",
        "print(f'The value of x after swapping: {x}')\n",
        "print(f'The value of y after swapping: {y}')"
      ],
      "metadata": {
        "colab": {
          "base_uri": "https://localhost:8080/"
        },
        "id": "fJywwfBfRzfB",
        "outputId": "bb44f57d-4486-4527-bc26-d24de2fdf8c8"
      },
      "execution_count": 5,
      "outputs": [
        {
          "output_type": "stream",
          "name": "stdout",
          "text": [
            "Please enter the first value: 5\n",
            "Please enter the second value: 6\n",
            "The value of x befor swapping: 5\n",
            "The value of y before swapping: 6\n",
            "The value of x after swapping: 6\n",
            "The value of y after swapping: 5\n"
          ]
        }
      ]
    },
    {
      "cell_type": "markdown",
      "source": [
        "Write a Python program to generate a random number?"
      ],
      "metadata": {
        "id": "DVJUmNbhS-Mg"
      }
    },
    {
      "cell_type": "code",
      "source": [
        "import random  \n",
        "print(random.random())"
      ],
      "metadata": {
        "colab": {
          "base_uri": "https://localhost:8080/"
        },
        "id": "MNt_NlksS4zC",
        "outputId": "0a64f530-2310-4de6-9d6f-b8e743688fdc"
      },
      "execution_count": 6,
      "outputs": [
        {
          "output_type": "stream",
          "name": "stdout",
          "text": [
            "0.02949344630806383\n"
          ]
        }
      ]
    }
  ]
}
